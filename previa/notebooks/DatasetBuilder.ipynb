{
 "cells": [
  {
   "cell_type": "markdown",
   "metadata": {},
   "source": [
    "# Programa que Prepara o Dataset"
   ]
  },
  {
   "cell_type": "markdown",
   "metadata": {},
   "source": [
    "## Importando bibliotecas"
   ]
  },
  {
   "cell_type": "code",
   "execution_count": 1,
   "metadata": {},
   "outputs": [],
   "source": [
    "import pandas as pd"
   ]
  },
  {
   "cell_type": "markdown",
   "metadata": {},
   "source": [
    "## Importando os datasets"
   ]
  },
  {
   "cell_type": "code",
   "execution_count": 2,
   "metadata": {},
   "outputs": [],
   "source": [
    "movies = pd.read_csv(\"MoviesOnStreamingPlatforms_updated.csv\")\n",
    "tvshows = pd.read_csv(\"tv_shows.csv\")\n",
    "disneyplus = pd.read_csv(\"disney_plus_shows.csv\")\n",
    "netflix = pd.read_csv(\"netflix_titles.csv\")"
   ]
  },
  {
   "cell_type": "markdown",
   "metadata": {},
   "source": [
    "## Verificando se o dataset de filmes tem titulos repetidos"
   ]
  },
  {
   "cell_type": "code",
   "execution_count": 3,
   "metadata": {},
   "outputs": [
    {
     "name": "stdout",
     "output_type": "stream",
     "text": [
      "Nao ha filmes repetidos\n"
     ]
    }
   ],
   "source": [
    "repetidosFilmes = []\n",
    "\n",
    "for i in movies['Title']:\n",
    "    count = 0\n",
    "    for j in movies['Title']:\n",
    "        if i == j:\n",
    "            count += 1\n",
    "    if count > 1:\n",
    "        if(i not in repetidosFilmes):\n",
    "            repetidosFilmes.append(i)\n",
    "if repetidosFilmes == []:\n",
    "    print(\"Nao ha filmes repetidos\")\n",
    "else:\n",
    "    print(repetidosFilmes)"
   ]
  },
  {
   "cell_type": "markdown",
   "metadata": {},
   "source": [
    "## Verificando se o dataset de series tem titulos repetidos"
   ]
  },
  {
   "cell_type": "code",
   "execution_count": 4,
   "metadata": {},
   "outputs": [
    {
     "name": "stdout",
     "output_type": "stream",
     "text": [
      "Nao ha series repetidas\n"
     ]
    }
   ],
   "source": [
    "repetidosSeries = []\n",
    "\n",
    "for i in tvshows['Title']:\n",
    "    count = 0\n",
    "    for j in tvshows['Title']:\n",
    "        if i == j:\n",
    "            count += 1\n",
    "    if count > 1:\n",
    "        if(i not in repetidosSeries):\n",
    "            repetidosSeries.append(i)\n",
    "\n",
    "if repetidosSeries == []:\n",
    "    print(\"Nao ha series repetidas\")\n",
    "else:\n",
    "    print(repetidosSeries)"
   ]
  },
  {
   "cell_type": "markdown",
   "metadata": {},
   "source": [
    "## Verificando se o dataset de netflix tem titulos repetidos"
   ]
  },
  {
   "cell_type": "code",
   "execution_count": 5,
   "metadata": {},
   "outputs": [
    {
     "name": "stdout",
     "output_type": "stream",
     "text": [
      "Nao ha midias repetidas\n"
     ]
    }
   ],
   "source": [
    "repetidosNetflix = []\n",
    "\n",
    "for i in netflix['title']:\n",
    "    count = 0\n",
    "    for j in netflix['title']:\n",
    "        if i == j:\n",
    "            count += 1\n",
    "    if count > 1:\n",
    "        if(i not in repetidosNetflix):\n",
    "            repetidosNetflix.append(i)\n",
    "\n",
    "if repetidosNetflix == []:\n",
    "    print(\"Nao ha midias repetidas\")\n",
    "else:\n",
    "    print(repetidosNetflix)"
   ]
  },
  {
   "cell_type": "markdown",
   "metadata": {},
   "source": [
    "## Verificando se o dataset de disney plus tem titulos repetidos"
   ]
  },
  {
   "cell_type": "code",
   "execution_count": 6,
   "metadata": {},
   "outputs": [
    {
     "name": "stdout",
     "output_type": "stream",
     "text": [
      "Midias repetidas:\n",
      "['Aladdin', 'Alice in Wonderland', 'DuckTales', 'Hercules', 'Kim Possible', 'The Little Mermaid', 'Frankenweenie', 'Freaky Friday', 'Iron Man', 'Lady and the Tramp', 'Lizzie McGuire', 'Ant-Man', 'Guardians of the Galaxy', 'Spider-Man', \"Pete's Dragon\", 'Star Wars: The Clone Wars', 'Swiss Family Robinson', \"Teacher's Pet\", 'The Lion King', 'The Parent Trap', 'The Prince and the Pauper']\n"
     ]
    }
   ],
   "source": [
    "repetidosDisney = []\n",
    "\n",
    "for i in disneyplus['title']:\n",
    "    count = 0\n",
    "    for j in disneyplus['title']:\n",
    "        if i == j:\n",
    "            count += 1\n",
    "    if count > 1:\n",
    "        if(i not in repetidosDisney):\n",
    "            repetidosDisney.append(i)\n",
    "\n",
    "if repetidosDisney == []:\n",
    "    print(\"Nao ha midias repetidas\")\n",
    "else:\n",
    "    print(\"Midias repetidas:\")\n",
    "    print(repetidosDisney)"
   ]
  },
  {
   "cell_type": "markdown",
   "metadata": {},
   "source": [
    "## Criando tabela de diretores"
   ]
  },
  {
   "cell_type": "code",
   "execution_count": 19,
   "metadata": {},
   "outputs": [],
   "source": [
    "directorNames = []\n",
    "midias = []\n",
    "anos = []\n",
    "\n",
    "for i in range(len(movies)):\n",
    "    directors = str(movies[\"Directors\"][i])\n",
    "    if(\",\" in directors):\n",
    "        directors = directors.split(\",\")\n",
    "        directors = list(dict.fromkeys(directors))\n",
    "        for j in range(len(directors)):\n",
    "            directorNames.append(directors[j])\n",
    "            midias.append(movies[\"Title\"][i])\n",
    "            anos.append(movies[\"Year\"][i])\n",
    "    else:\n",
    "        directorNames.append(directors)\n",
    "        midias.append(movies[\"Title\"][i])\n",
    "        anos.append(movies[\"Year\"][i])\n",
    "\n",
    "for i in range(len(netflix)):\n",
    "    if(netflix[\"title\"][i] not in midias or str(netflix['release_year'][i]) != str(anos[midias.index(netflix['title'][i])])):\n",
    "        directors = str(netflix[\"director\"][i])\n",
    "        if(\",\" in directors):\n",
    "            directors = directors.split(\", \")\n",
    "            directors = list(dict.fromkeys(directors))\n",
    "            for j in range(len(directors)):\n",
    "                directorNames.append(directors[j])\n",
    "                midias.append(netflix[\"title\"][i])\n",
    "                anos.append(netflix[\"release_year\"][i])\n",
    "        else:\n",
    "            directorNames.append(directors)\n",
    "            midias.append(netflix[\"title\"][i])\n",
    "            anos.append(netflix['release_year'][i])\n",
    "\n",
    "for i in range(len(disneyplus)):\n",
    "    if(disneyplus[\"title\"][i] not in midias or str(disneyplus['year'][i]) != str(anos[midias.index(disneyplus['title'][i])])):\n",
    "        if(disneyplus['type'][i] == 'movie' or disneyplus['type'][i] == 'series'):\n",
    "            directors = str(disneyplus[\"director\"][i])\n",
    "            if(\",\" in directors):\n",
    "                directors = directors.split(\", \")\n",
    "                directors = list(dict.fromkeys(directors))\n",
    "                for j in range(len(directors)):\n",
    "                    directorNames.append(directors[j])\n",
    "                    midias.append(disneyplus[\"title\"][i])\n",
    "                    anos.append(disneyplus[\"year\"][i])\n",
    "            else:\n",
    "                directorNames.append(directors)\n",
    "                midias.append(disneyplus[\"title\"][i])\n",
    "                anos.append(disneyplus['year'][i])\n",
    "\n",
    "table = {'Diretor': directorNames, 'Titulo': midias, 'Ano': anos}\n",
    "df = pd.DataFrame(table, columns=['Titulo', 'Ano', 'Diretor'])\n",
    "df.to_csv(r'diretores.csv',\n",
    "            index=False, header=True)"
   ]
  },
  {
   "cell_type": "markdown",
   "metadata": {},
   "source": [
    "## Criando tabela de atores"
   ]
  },
  {
   "cell_type": "code",
   "execution_count": 20,
   "metadata": {},
   "outputs": [],
   "source": [
    "actorNames = []\n",
    "midias = []\n",
    "anos = []\n",
    "\n",
    "for i in range(len(netflix)):\n",
    "    if(netflix[\"title\"][i] not in midias or str(netflix['release_year'][i]) != str(anos[midias.index(netflix['title'][i])])):\n",
    "        actors = str(netflix[\"cast\"][i])\n",
    "        if(\",\" in actors):\n",
    "            actors = actors.split(\", \")\n",
    "            actors = list(dict.fromkeys(actors))\n",
    "            for j in range(len(actors)):\n",
    "                actorNames.append(actors[j])\n",
    "                midias.append(netflix[\"title\"][i])\n",
    "                anos.append(netflix[\"release_year\"][i])\n",
    "        else:\n",
    "            actorNames.append(actors)\n",
    "            midias.append(netflix[\"title\"][i])\n",
    "            anos.append(netflix[\"release_year\"][i])\n",
    "\n",
    "for i in range(len(disneyplus)):\n",
    "    if(disneyplus[\"title\"][i] not in midias or str(disneyplus['year'][i]) != str(anos[midias.index(disneyplus['title'][i])])):\n",
    "        if(disneyplus['type'][i] == 'movie' or disneyplus['type'][i] == 'series'):\n",
    "            actors = str(disneyplus[\"actors\"][i])\n",
    "            if(\",\" in actors):\n",
    "                actors = actors.split(\", \")\n",
    "                actors = list(dict.fromkeys(actors))\n",
    "                for j in range(len(actors)):\n",
    "                    actorNames.append(actors[j])\n",
    "                    midias.append(disneyplus[\"title\"][i])\n",
    "                    anos.append(disneyplus['year'][i])\n",
    "            else:\n",
    "                actorNames.append(actors)\n",
    "                midias.append(disneyplus[\"title\"][i])\n",
    "                anos.append(disneyplus['year'][i])\n",
    "\n",
    "table = {'Ator': actorNames, 'Titulo': midias, 'Ano': anos}\n",
    "df = pd.DataFrame(table, columns=['Titulo', 'Ano', 'Ator'])\n",
    "df.to_csv(r'atores.csv',\n",
    "            index=False, header=True)"
   ]
  },
  {
   "cell_type": "markdown",
   "metadata": {},
   "source": [
    "## Criando tabela de generos"
   ]
  },
  {
   "cell_type": "code",
   "execution_count": 6,
   "metadata": {},
   "outputs": [],
   "source": [
    "midias = []\n",
    "anos = []\n",
    "generoNames = []\n",
    "\n",
    "for i in range(len(movies)):\n",
    "    generos = str(movies[\"Genres\"][i])\n",
    "    if(\",\" in generos):\n",
    "        generos = generos.split(\",\")\n",
    "        for j in range(len(generos)):\n",
    "            generoNames.append(generos[j])\n",
    "            midias.append(movies[\"Title\"][i])\n",
    "            anos.append(movies[\"Year\"][i])\n",
    "    else:\n",
    "        generoNames.append(generos)\n",
    "        midias.append(movies[\"Title\"][i])\n",
    "        anos.append(movies[\"Year\"][i])\n",
    "\n",
    "for i in range(len(netflix)):\n",
    "    if(netflix[\"title\"][i] not in midias or str(netflix['release_year'][i]) != str(anos[midias.index(netflix['title'][i])])):\n",
    "        generos = str(netflix[\"listed_in\"][i])\n",
    "        if(\",\" in generos):\n",
    "            generos = generos.split(\", \")\n",
    "            for j in range(len(generos)):\n",
    "                generoNames.append(generos[j])\n",
    "                midias.append(netflix[\"title\"][i])\n",
    "                anos.append(netflix[\"release_year\"][i])\n",
    "        else:\n",
    "            generoNames.append(generos)\n",
    "            midias.append(netflix[\"title\"][i])\n",
    "            anos.append(netflix['release_year'][i])\n",
    "\n",
    "for i in range(len(disneyplus)):\n",
    "    if(disneyplus[\"title\"][i] not in midias or str(disneyplus['year'][i]) != str(anos[midias.index(disneyplus['title'][i])])):\n",
    "        if (disneyplus['type'][i] == 'movie' or disneyplus['type'][i] == 'series'):\n",
    "            generos = str(disneyplus[\"genre\"][i])\n",
    "            if(\",\" in generos):\n",
    "                generos = generos.split(\", \")\n",
    "                for j in range(len(generos)):\n",
    "                    generoNames.append(generos[j])\n",
    "                    midias.append(disneyplus[\"title\"][i])\n",
    "                    anos.append(disneyplus[\"year\"][i])\n",
    "            else:\n",
    "                generoNames.append(generos)\n",
    "                midias.append(disneyplus[\"title\"][i])\n",
    "                anos.append(disneyplus['year'][i])\n",
    "\n",
    "table = {'Genero': generoNames, 'Titulo': midias, 'Ano': anos}\n",
    "df = pd.DataFrame(table, columns=['Titulo', 'Ano', 'Genero'])\n",
    "df.to_csv(r'generos.csv',\n",
    "            index=False, header=True)"
   ]
  },
  {
   "cell_type": "markdown",
   "metadata": {},
   "source": [
    "## Criando tabela de paises"
   ]
  },
  {
   "cell_type": "code",
   "execution_count": 5,
   "metadata": {},
   "outputs": [],
   "source": [
    "midias = []\n",
    "anos = []\n",
    "paisNames = []\n",
    "\n",
    "for i in range(len(movies)):\n",
    "    paises = str(movies[\"Country\"][i])\n",
    "    if(\",\" in paises):\n",
    "        paises = paises.split(\",\")\n",
    "        for j in range(len(paises)):\n",
    "            if(paises[j] == \"\"):\n",
    "                paises[j] = \"Null\"\n",
    "            paisNames.append(paises[j])\n",
    "            midias.append(movies[\"Title\"][i])\n",
    "            anos.append(movies[\"Year\"][i])\n",
    "    else:\n",
    "        if(paises == \"\"):\n",
    "            paises = \"Null\"\n",
    "        paisNames.append(paises)\n",
    "        midias.append(movies[\"Title\"][i])\n",
    "        anos.append(movies[\"Year\"][i])\n",
    "\n",
    "for i in range(len(netflix)):\n",
    "    if(netflix[\"title\"][i] not in midias or str(netflix['release_year'][i]) != str(anos[midias.index(netflix['title'][i])])):\n",
    "        paises = str(netflix[\"country\"][i])\n",
    "        if(\",\" in paises):\n",
    "            paises = paises.split(\", \")\n",
    "            for j in range(len(paises)):\n",
    "                if(paises[j] == \"\"):\n",
    "                    paises[j] = \"Null\"\n",
    "                paisNames.append(paises[j])\n",
    "                midias.append(netflix[\"title\"][i])\n",
    "                anos.append(netflix[\"release_year\"][i])\n",
    "        else:\n",
    "            if(paises == \"\"):\n",
    "                paises = \"Null\"\n",
    "            paisNames.append(paises)\n",
    "            midias.append(netflix[\"title\"][i])\n",
    "            anos.append(netflix['release_year'][i])\n",
    "\n",
    "for i in range(len(disneyplus)):\n",
    "    if(disneyplus[\"title\"][i] not in midias or str(disneyplus['year'][i]) != str(anos[midias.index(disneyplus['title'][i])])):\n",
    "        if (disneyplus['type'][i] == 'movie' or disneyplus['type'][i] == 'series'):\n",
    "            paises = str(disneyplus[\"country\"][i])\n",
    "            if(\",\" in paises):\n",
    "                paises = paises.split(\", \")\n",
    "                for j in range(len(paises)):\n",
    "                    if(paises[j] == \"\"):\n",
    "                        paises[j] = \"Null\"\n",
    "                    paisNames.append(paises[j])\n",
    "                    midias.append(disneyplus[\"title\"][i])\n",
    "                    anos.append(disneyplus[\"year\"][i])\n",
    "            else:\n",
    "                if(paises == \"\"):\n",
    "                    paises = \"Null\"\n",
    "                paisNames.append(paises)\n",
    "                midias.append(disneyplus[\"title\"][i])\n",
    "                anos.append(disneyplus['year'][i])\n",
    "\n",
    "table = {'Pais': paisNames, 'Titulo': midias, 'Ano': anos}\n",
    "df = pd.DataFrame(table, columns=['Titulo', 'Ano', 'Pais'])\n",
    "df.to_csv(r'paises.csv',\n",
    "            index=False, header=True)"
   ]
  },
  {
   "cell_type": "markdown",
   "metadata": {},
   "source": [
    "## Criando tabela da netflix"
   ]
  },
  {
   "cell_type": "code",
   "execution_count": 78,
   "metadata": {},
   "outputs": [],
   "source": [
    "lancamentos = []\n",
    "midias = []\n",
    "anos = []\n",
    "\n",
    "for i in range(len(netflix)):\n",
    "    midias.append(netflix['title'][i])\n",
    "    lancamentos.append(netflix['date_added'][i])\n",
    "    anos.append(netflix['release_year'][i])\n",
    "\n",
    "table = {'Titulo': midias, 'Lancamento na Plataforma': lancamentos, 'Ano': anos}\n",
    "df = pd.DataFrame(table, columns=['Titulo', 'Ano', 'Lancamento na Plataforma'])\n",
    "df.to_csv(r'netflix.csv',\n",
    "            index=False, header=True)"
   ]
  },
  {
   "cell_type": "markdown",
   "metadata": {},
   "source": [
    "## Criando tabela da disney plus"
   ]
  },
  {
   "cell_type": "code",
   "execution_count": 5,
   "metadata": {},
   "outputs": [],
   "source": [
    "lancamentos = []\n",
    "midias = []\n",
    "anos = []\n",
    "\n",
    "for i in range(len(disneyplus)):\n",
    "    if(disneyplus['type'][i] == 'movie' or disneyplus['type'][i] == 'series'):\n",
    "        midias.append(disneyplus['title'][i])\n",
    "        lancamentos.append(disneyplus[\"added_at\"][i])\n",
    "        anos.append(disneyplus['year'][i])\n",
    "\n",
    "table = {'Titulo': midias, 'Lancamento na Plataforma': lancamentos, 'Ano': anos}\n",
    "df = pd.DataFrame(table, columns=['Titulo', 'Ano', 'Lancamento na Plataforma'])\n",
    "df.to_csv(r'disneyplus.csv',\n",
    "            index=False, header=True)"
   ]
  },
  {
   "cell_type": "markdown",
   "metadata": {},
   "source": [
    "## Criando tabela de filmes"
   ]
  },
  {
   "cell_type": "code",
   "execution_count": 9,
   "metadata": {},
   "outputs": [],
   "source": [
    "midias = []\n",
    "anos = []\n",
    "duracoes = []\n",
    "classificacoes = []\n",
    "plataformas = []\n",
    "imdbs = []\n",
    "rottentomatoes = []\n",
    "enredos = []\n",
    "\n",
    "for i in range(len(movies)):\n",
    "    midias.append(movies[\"Title\"][i])\n",
    "    anos.append(movies[\"Year\"][i])\n",
    "    duracoes.append(movies['Runtime'][i])\n",
    "    classificacoes.append(movies[\"Age\"][i])\n",
    "    imdbs.append(movies[\"IMDb\"][i])\n",
    "    rottentomatoes.append(movies[\"Rotten Tomatoes\"][i])\n",
    "    plataformas.append(\"Outra\")\n",
    "    enredos.append(\"\")\n",
    "    if(movies[\"Netflix\"][i] == 1):\n",
    "        for j in range (len(netflix)):\n",
    "            if(netflix['title'][j] == movies['Title'][i]):\n",
    "                plataformas[i] = \"Netflix\"\n",
    "                if(movies[\"Disney+\"][i] == 1):\n",
    "                    plataformas[i] = \"Netflix,Disney+\"\n",
    "                enredos[i] = netflix['description'][j]\n",
    "    elif(movies[\"Disney+\"][i] == 1):\n",
    "        for j in range (len(disneyplus)):\n",
    "            if(disneyplus['title'][j] == movies['Title'][i]):\n",
    "                plataformas[i] = \"Disney +\"\n",
    "                enredos[i] = disneyplus['plot'][j]\n",
    "    \n",
    "for i in range(len(netflix)):\n",
    "    if(netflix[\"title\"][i] not in midias or str(netflix['release_year'][i]) != str(anos[midias.index(netflix['title'][i])])):\n",
    "        if(netflix['type'][i] == \"Movie\"):\n",
    "            midias.append(netflix[\"title\"][i])\n",
    "            anos.append(netflix[\"release_year\"][i])\n",
    "            duracoes.append(netflix['duration'][i])\n",
    "            classificacoes.append(netflix['rating'][i])\n",
    "            imdbs.append(\"\")\n",
    "            rottentomatoes.append(\"\")\n",
    "            plataformas.append(\"Netflix\")\n",
    "            enredos.append(netflix['description'][i])\n",
    "    \n",
    "for i in range(len(disneyplus)):\n",
    "    if(disneyplus['title'][i] not in midias or str(disneyplus['year'][i]) != str(anos[midias.index(disneyplus['title'][i])])):\n",
    "        if(disneyplus['type'][i] == 'movie'):\n",
    "            midias.append(disneyplus['title'][i])\n",
    "            anos.append(disneyplus['year'][i])\n",
    "            duracoes.append(disneyplus['runtime'][i])\n",
    "            classificacoes.append(disneyplus['rated'][i])\n",
    "            imdbs.append(str(disneyplus['imdb_rating'][i]) + \"/10\")\n",
    "            rottentomatoes.append(\"\")\n",
    "            plataformas.append(\"Disney +\")\n",
    "            enredos.append(disneyplus['plot'][i])          \n",
    "    \n",
    "\n",
    "table = {'Titulo': midias, 'Ano': anos, 'Duracao': duracoes, 'Plataforma': plataformas, 'Classificacao Indicativa': classificacoes, 'IMDb': imdbs, 'Rotten Tomatoes': rottentomatoes, 'Enredo': enredos}\n",
    "df = pd.DataFrame(table, columns=['Titulo', 'Ano', 'Duracao', 'Plataforma', 'Classificacao Indicativa', 'IMDb', 'Rotten Tomatoes', 'Enredo'])\n",
    "df.to_csv(r'filmes.csv',\n",
    "            index=False, header=True)"
   ]
  },
  {
   "cell_type": "markdown",
   "metadata": {},
   "source": [
    "## Criando tabela de series"
   ]
  },
  {
   "cell_type": "code",
   "execution_count": 36,
   "metadata": {},
   "outputs": [],
   "source": [
    "midias = []\n",
    "anos = []\n",
    "classificacoes = []\n",
    "plataformas = []\n",
    "imdbs = []\n",
    "rottentomatoes = []\n",
    "enredos = []\n",
    "duracoes = []\n",
    "temporadas = []\n",
    "\n",
    "for i in range(len(tvshows)):\n",
    "    midias.append(tvshows[\"Title\"][i])\n",
    "    anos.append(tvshows[\"Year\"][i])\n",
    "    classificacoes.append(tvshows[\"Age\"][i])\n",
    "    imdbs.append(tvshows[\"IMDb\"][i])\n",
    "    rottentomatoes.append(tvshows[\"Rotten Tomatoes\"][i])\n",
    "    duracoes.append(\"\")\n",
    "    plataformas.append(\"Outra\")\n",
    "    enredos.append(\"\")\n",
    "    temporadas.append(\"\")\n",
    "    if(tvshows[\"Netflix\"][i] == 1):\n",
    "        for j in range (len(netflix)):\n",
    "            if(netflix['title'][j] == tvshows['Title'][i]):\n",
    "                plataformas[i] = \"Netflix\"\n",
    "                if(tvshows[\"Disney+\"][i] == 1):\n",
    "                    plataformas[i] = \"Netflix,Disney+\"\n",
    "                enredos[i] = netflix['description'][j]\n",
    "                temporadas[i] = netflix['duration'][j]\n",
    "    elif(tvshows[\"Disney+\"][i] == 1):\n",
    "        for j in range (len(disneyplus)):\n",
    "            if(disneyplus['title'][j] == tvshows['Title'][i]):\n",
    "                plataformas[i] = \"Disney +\"\n",
    "                enredos[i] = disneyplus['plot'][j]\n",
    "                duracoes[i] = disneyplus['runtime'][j]\n",
    "\n",
    "for i in range(len(netflix)):\n",
    "    if(netflix[\"title\"][i] not in midias or str(netflix['release_year'][i]) != str(anos[midias.index(netflix['title'][i])])):\n",
    "        if(netflix['type'][i] == \"TV Show\"):\n",
    "            midias.append(netflix[\"title\"][i])\n",
    "            anos.append(netflix[\"release_year\"][i])\n",
    "            temporadas.append(netflix['duration'][i])\n",
    "            duracoes.append(\"\")\n",
    "            classificacoes.append(netflix['rating'][i])\n",
    "            imdbs.append(\"\")\n",
    "            rottentomatoes.append(\"\")\n",
    "            plataformas.append(\"Netflix\")\n",
    "            enredos.append(netflix['description'][i])\n",
    "    \n",
    "for i in range(len(disneyplus)):\n",
    "    if(disneyplus['title'][i] not in midias or str(disneyplus['year'][i]) != str(anos[midias.index(disneyplus['title'][i])])):\n",
    "        if(disneyplus['type'][i] == 'series'):\n",
    "            midias.append(disneyplus['title'][i])\n",
    "            anos.append(disneyplus['year'][i])\n",
    "            temporadas.append(\"\")\n",
    "            duracoes.append(disneyplus['runtime'][i])\n",
    "            classificacoes.append(disneyplus['rated'][i])\n",
    "            imdbs.append(str(disneyplus['imdb_rating'][i]) + \"/10\")\n",
    "            rottentomatoes.append(\"\")\n",
    "            plataformas.append(\"Disney +\")\n",
    "            enredos.append(disneyplus['plot'][i])          \n",
    "    \n",
    "\n",
    "table = {'Titulo': midias, 'Ano': anos, 'Duracao': duracoes, 'Temporadas': temporadas, 'Plataforma': plataformas, 'Classificacao Indicativa': classificacoes, 'IMDb': imdbs, 'Rotten Tomatoes': rottentomatoes, 'Enredo': enredos}\n",
    "df = pd.DataFrame(table, columns=['Titulo', 'Ano', 'Duracao', 'Temporadas', 'Plataforma', 'Classificacao Indicativa', 'IMDb', 'Rotten Tomatoes', 'Enredo'])\n",
    "df.to_csv(r'series.csv',\n",
    "            index=False, header=True)"
   ]
  }
 ],
 "metadata": {
  "interpreter": {
   "hash": "63fd5069d213b44bf678585dea6b12cceca9941eaf7f819626cde1f2670de90d"
  },
  "kernelspec": {
   "display_name": "Python 3.9.6 64-bit",
   "name": "python3"
  },
  "language_info": {
   "codemirror_mode": {
    "name": "ipython",
    "version": 3
   },
   "file_extension": ".py",
   "mimetype": "text/x-python",
   "name": "python",
   "nbconvert_exporter": "python",
   "pygments_lexer": "ipython3",
   "version": "3.9.6"
  },
  "orig_nbformat": 4
 },
 "nbformat": 4,
 "nbformat_minor": 2
}

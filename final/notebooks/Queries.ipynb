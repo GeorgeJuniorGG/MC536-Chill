{
 "cells": [
  {
   "cell_type": "code",
   "execution_count": 1,
   "metadata": {},
   "outputs": [],
   "source": [
    "%defaultDatasource jdbc:h2:mem:db"
   ]
  },
  {
   "cell_type": "markdown",
   "metadata": {},
   "source": [
    "# Criando as Tabelas"
   ]
  },
  {
   "cell_type": "code",
   "execution_count": 12,
   "metadata": {},
   "outputs": [],
   "source": [
    "DROP Table IF EXISTS Filmes;\n",
    "DROP Table IF EXISTS Series;\n",
    "DROP Table IF EXISTS Netflix;\n",
    "DROP Table IF EXISTS DisneyPlus;\n",
    "DROP Table IF EXISTS Generos;\n",
    "DROP Table IF EXISTS Paises;\n",
    "DROP Table IF EXISTS Atores;\n",
    "DROP Table IF EXISTS Diretores;\n",
    "DROP TABLE IF EXISTS Palavras;\n",
    "\n",
    "CREATE TABLE Filmes (\n",
    "  Titulo VARCHAR(104) NOT NULL,\n",
    "  Ano VARCHAR(4) NOT NULL,\n",
    "  Duracao VARCHAR(7),\n",
    "  Plataforma VARCHAR(15),\n",
    "  ClassificacaoIndicativa VARCHAR(9),\n",
    "  IMDb VARCHAR(6),\n",
    "  RottenTomatoes VARCHAR(6),\n",
    "  Enredo VARCHAR (3827),\n",
    "  PRIMARY KEY(Titulo, Ano)\n",
    ") AS SELECT\n",
    "    Titulo,\n",
    "    Ano,\n",
    "    Duracao,\n",
    "    Plataforma,\n",
    "    \"Classificacao Indicativa\",\n",
    "    IMDb,\n",
    "    \"Rotten Tomatoes\",\n",
    "    Enredo\n",
    "FROM CSVREAD('filmesNew.csv');\n",
    "\n",
    "CREATE TABLE Series (\n",
    "  Titulo VARCHAR(93) NOT NULL,\n",
    "  Ano VARCHAR(11) NOT NULL,\n",
    "  Duracao VARCHAR(7),\n",
    "  Temporadas VARCHAR (10),\n",
    "  Plataforma VARCHAR(15),\n",
    "  ClassificacaoIndicativa VARCHAR(9),\n",
    "  IMDb VARCHAR(7),\n",
    "  RottenTomatoes VARCHAR(7),\n",
    "  Enredo VARCHAR (3457),\n",
    "  PRIMARY KEY(Titulo, Ano)\n",
    ") AS SELECT\n",
    "    Titulo,\n",
    "    Ano,\n",
    "    Duracao,\n",
    "    Temporadas,\n",
    "    Plataforma,\n",
    "    \"Classificacao Indicativa\",\n",
    "    IMDb,\n",
    "    \"Rotten Tomatoes\",\n",
    "    Enredo\n",
    "FROM CSVREAD('seriesNew.csv');\n",
    "\n",
    "CREATE TABLE Netflix (\n",
    "  Titulo VARCHAR(104) NOT NULL,\n",
    "  Ano VARCHAR(4) NOT NULL,\n",
    "  LancamentoNaPlataforma VARCHAR(19),\n",
    "  PRIMARY KEY(Titulo, Ano)\n",
    ") AS SELECT\n",
    "    Titulo,\n",
    "    Ano,\n",
    "    \"Lancamento na Plataforma\"\n",
    "FROM CSVREAD('netflix.csv');\n",
    "\n",
    "CREATE TABLE DisneyPlus (\n",
    "  Titulo VARCHAR(62) NOT NULL,\n",
    "  Ano VARCHAR(11) NOT NULL,\n",
    "  LancamentoNaPlataforma VARCHAR(17),\n",
    "  PRIMARY KEY(Titulo, Ano)\n",
    ") AS SELECT\n",
    "    Titulo,\n",
    "    Ano,\n",
    "    \"Lancamento na Plataforma\"\n",
    "FROM CSVREAD('disneyplus.csv');\n",
    "\n",
    "CREATE TABLE Generos (\n",
    "  Titulo VARCHAR(104) NOT NULL,\n",
    "  Ano VARCHAR(11) NOT NULL,\n",
    "  Genero VARCHAR(28) NOT NULL,\n",
    "  PRIMARY KEY(Titulo, Ano, Genero)\n",
    ") AS SELECT\n",
    "    Titulo,\n",
    "    Ano,\n",
    "    Genero\n",
    "FROM CSVREAD('generos.csv');\n",
    "\n",
    "CREATE TABLE Paises (\n",
    "  Titulo VARCHAR(104) NOT NULL,\n",
    "  Ano VARCHAR(11) NOT NULL,\n",
    "  Pais VARCHAR(30),\n",
    "  PRIMARY KEY(Titulo, Ano, Pais)\n",
    ") AS SELECT\n",
    "    Titulo,\n",
    "    Ano,\n",
    "    Pais\n",
    "FROM CSVREAD('paises.csv');\n",
    "\n",
    "CREATE TABLE Atores (\n",
    "  Titulo VARCHAR(104) NOT NULL,\n",
    "  Ano VARCHAR(11) NOT NULL,\n",
    "  Ator VARCHAR(100),\n",
    "  PRIMARY KEY(Titulo, Ano, Ator)\n",
    ") AS SELECT\n",
    "    Titulo,\n",
    "    Ano,\n",
    "    Ator\n",
    "FROM CSVREAD('atoresNew.csv');\n",
    "\n",
    "CREATE TABLE Diretores (\n",
    "  Titulo VARCHAR(104) NOT NULL,\n",
    "  Ano VARCHAR(11) NOT NULL,\n",
    "  Diretor VARCHAR(100),\n",
    "  PRIMARY KEY(Titulo, Ano, Diretor)\n",
    ") AS SELECT\n",
    "    Titulo,\n",
    "    Ano,\n",
    "    Diretor\n",
    "FROM CSVREAD('diretoresNew.csv');\n",
    "\n",
    "CREATE TABLE Palavras (\n",
    "  Palavra VARCHAR(23) NOT NULL\n",
    ") AS SELECT\n",
    "    Palavras\n",
    "FROM CSVREAD('palavras.csv');"
   ]
  },
  {
   "cell_type": "markdown",
   "metadata": {},
   "source": [
    "# Queries Faceis"
   ]
  },
  {
   "cell_type": "markdown",
   "metadata": {},
   "source": [
    "## Quais filmes têm a melhor/pior avaliação?"
   ]
  },
  {
   "cell_type": "code",
   "execution_count": null,
   "metadata": {},
   "outputs": [],
   "source": [
    "DROP VIEW IF EXISTS Movies;\n",
    "\n",
    "CREATE VIEW Movies AS\n",
    "SELECT SUBSTRING(IMDb, 1, 3) AS IMDb\n",
    "FROM Filmes\n",
    "WHERE IMDb NOT LIKE '%nan%'"
   ]
  },
  {
   "cell_type": "markdown",
   "metadata": {},
   "source": [
    "* Melhor avaliação"
   ]
  },
  {
   "cell_type": "code",
   "execution_count": null,
   "metadata": {},
   "outputs": [],
   "source": [
    "SELECT F.Titulo, F.IMDb\n",
    "FROM Filmes F\n",
    "WHERE SUBSTRING(F.IMDb, 1, 3) = (SELECT MAX(M.IMDb) FROM Movies M)"
   ]
  },
  {
   "cell_type": "markdown",
   "metadata": {},
   "source": [
    "* Pior avaliação"
   ]
  },
  {
   "cell_type": "code",
   "execution_count": null,
   "metadata": {},
   "outputs": [],
   "source": [
    "SELECT F.Titulo, F.IMDb\n",
    "FROM Filmes F\n",
    "WHERE SUBSTRING(F.IMDb, 1, 3) = (SELECT MIN(M.IMDb) FROM Movies M)"
   ]
  },
  {
   "cell_type": "code",
   "execution_count": null,
   "metadata": {},
   "outputs": [],
   "source": [
    "DROP VIEW IF EXISTS Movies"
   ]
  },
  {
   "cell_type": "markdown",
   "metadata": {},
   "source": [
    "## Qual o tempo entre a estreia de um filme e seu lançamento na plataforma?"
   ]
  },
  {
   "cell_type": "markdown",
   "metadata": {},
   "source": [
    "* Netflix"
   ]
  },
  {
   "cell_type": "code",
   "execution_count": null,
   "metadata": {},
   "outputs": [],
   "source": [
    "DROP VIEW IF EXISTS anoNetflix;\n",
    "\n",
    "CREATE VIEW anoNetflix AS\n",
    "SELECT CAST(Ano AS INT) AS Estreia, CAST(RIGHT(LancamentoNaPlataforma, 4) AS INT) AS LancamentoNetflix\n",
    "FROM Netflix\n",
    "WHERE Titulo IN (SELECT Titulo FROM Filmes)"
   ]
  },
  {
   "cell_type": "code",
   "execution_count": null,
   "metadata": {},
   "outputs": [],
   "source": [
    "DROP VIEW IF EXISTS difNetflix;\n",
    "\n",
    "CREATE VIEW difNetflix AS\n",
    "SELECT LancamentoNetflix - Estreia AS TempoParaLancamento\n",
    "FROM anoNetflix"
   ]
  },
  {
   "cell_type": "code",
   "execution_count": null,
   "metadata": {},
   "outputs": [],
   "source": [
    "SELECT Titulo\n",
    "FROM precaria\n",
    "WHERE LancamentoNetflix - Estreia = -1"
   ]
  },
  {
   "cell_type": "code",
   "execution_count": null,
   "metadata": {},
   "outputs": [],
   "source": [
    "SELECT TempoParaLancamento, COUNT(TempoParaLancamento) AS Qtd\n",
    "FROM difNetflix\n",
    "GROUP BY TempoParaLancamento\n",
    "ORDER BY TempoParaLancamento"
   ]
  },
  {
   "cell_type": "markdown",
   "metadata": {},
   "source": [
    "* Disney+"
   ]
  },
  {
   "cell_type": "code",
   "execution_count": null,
   "metadata": {},
   "outputs": [],
   "source": [
    "DROP VIEW IF EXISTS anoDisney;\n",
    "\n",
    "CREATE VIEW anoDisney AS\n",
    "SELECT CAST(LEFT(Ano, 4) AS INT) AS Estreia, CAST(RIGHT(LancamentoNaPlataforma, 4) AS INT) AS LancamentoDisney\n",
    "FROM DisneyPlus\n",
    "WHERE Titulo IN (SELECT Titulo FROM Filmes)"
   ]
  },
  {
   "cell_type": "code",
   "execution_count": null,
   "metadata": {},
   "outputs": [],
   "source": [
    "DROP VIEW IF EXISTS difDisney;\n",
    "\n",
    "CREATE VIEW difDisney AS\n",
    "SELECT LancamentoDisney - Estreia AS TempoParaLancamento\n",
    "FROM anoDisney"
   ]
  },
  {
   "cell_type": "code",
   "execution_count": null,
   "metadata": {},
   "outputs": [],
   "source": [
    "SELECT TempoParaLancamento, COUNT(TempoParaLancamento) AS Qtd\n",
    "FROM difDisney\n",
    "GROUP BY TempoParaLancamento\n",
    "ORDER BY TempoParaLancamento"
   ]
  },
  {
   "cell_type": "code",
   "execution_count": null,
   "metadata": {},
   "outputs": [],
   "source": [
    "DROP VIEW IF EXISTS difNetflix;\n",
    "DROP VIEW IF EXISTS precaria;\n",
    "DROP VIEW IF EXISTS anoNetflix;\n",
    "DROP VIEW IF EXISTS difDisney;\n",
    "DROP VIEW IF EXISTS anoDisney;"
   ]
  },
  {
   "cell_type": "markdown",
   "metadata": {},
   "source": [
    "## Quantos filmes/séries foram feitos em cada país?"
   ]
  },
  {
   "cell_type": "code",
   "execution_count": null,
   "metadata": {},
   "outputs": [],
   "source": [
    "SELECT Pais, COUNT(Pais) AS Qtd\n",
    "FROM Paises\n",
    "WHERE Pais NOT LIKE 'nan'\n",
    "GROUP BY Pais\n",
    "ORDER BY Qtd DESC"
   ]
  },
  {
   "cell_type": "markdown",
   "metadata": {},
   "source": [
    "## Quais atores participaram de mais filmes?"
   ]
  },
  {
   "cell_type": "code",
   "execution_count": null,
   "metadata": {},
   "outputs": [],
   "source": [
    "SELECT Ator, COUNT(Ator) AS Filmes\n",
    "FROM Atores\n",
    "WHERE Titulo IN (SELECT Titulo FROM Filmes) AND Ator NOT LIKE '%nan%'\n",
    "GROUP BY Ator\n",
    "ORDER BY Filmes DESC"
   ]
  },
  {
   "cell_type": "markdown",
   "metadata": {},
   "source": [
    "## Quantos filmes/séries estão presentes em mais de uma plataforma?"
   ]
  },
  {
   "cell_type": "markdown",
   "metadata": {},
   "source": [
    "* Filmes"
   ]
  },
  {
   "cell_type": "code",
   "execution_count": null,
   "metadata": {},
   "outputs": [],
   "source": [
    "SELECT DISTINCT Plataforma FROM Filmes"
   ]
  },
  {
   "cell_type": "code",
   "execution_count": null,
   "metadata": {},
   "outputs": [],
   "source": [
    "SELECT Titulo, Plataforma\n",
    "FROM Filmes\n",
    "WHERE Plataforma LIKE '%Netflix,Disney+%'"
   ]
  },
  {
   "cell_type": "markdown",
   "metadata": {},
   "source": [
    "* Séries"
   ]
  },
  {
   "cell_type": "code",
   "execution_count": null,
   "metadata": {},
   "outputs": [],
   "source": [
    "SELECT DISTINCT Plataforma FROM Series"
   ]
  },
  {
   "cell_type": "code",
   "execution_count": null,
   "metadata": {},
   "outputs": [],
   "source": [
    "SELECT Titulo, Plataforma\n",
    "FROM Series\n",
    "WHERE Plataforma LIKE '%Netflix,Disney+%'"
   ]
  },
  {
   "cell_type": "markdown",
   "metadata": {},
   "source": [
    "## Quais atores trabalharam em mídias de mais de uma plataforma?"
   ]
  },
  {
   "cell_type": "markdown",
   "metadata": {},
   "source": [
    "* Filmes"
   ]
  },
  {
   "cell_type": "code",
   "execution_count": null,
   "metadata": {},
   "outputs": [],
   "source": [
    "SELECT Ator\n",
    "FROM Atores\n",
    "WHERE Titulo IN (SELECT Titulo FROM Filmes WHERE Plataforma LIKE '%Netflix,Disney+%')\n",
    "GROUP BY Ator"
   ]
  },
  {
   "cell_type": "markdown",
   "metadata": {},
   "source": [
    "* Séries"
   ]
  },
  {
   "cell_type": "code",
   "execution_count": null,
   "metadata": {},
   "outputs": [],
   "source": [
    "SELECT Ator\n",
    "FROM Atores\n",
    "WHERE Titulo IN (SELECT Titulo FROM Series WHERE Plataforma LIKE '%Netflix,Disney+%')\n",
    "GROUP BY Ator"
   ]
  },
  {
   "cell_type": "markdown",
   "metadata": {},
   "source": [
    "## Quais são os atores e diretores com mais participações em filmes +18?"
   ]
  },
  {
   "cell_type": "code",
   "execution_count": null,
   "metadata": {},
   "outputs": [],
   "source": [
    "SELECT Ator, COUNT(Ator) AS Qtd\n",
    "FROM Atores\n",
    "WHERE Titulo IN (SELECT Titulo FROM Filmes WHERE ClassificacaoIndicativa IN ('18+', 'NR', 'R', 'NC-17', 'TV-MA'))\n",
    "    AND Ator NOT LIKE '%nan%'\n",
    "GROUP BY Ator\n",
    "ORDER BY Qtd DESC"
   ]
  },
  {
   "cell_type": "markdown",
   "metadata": {},
   "source": [
    "# Queries médias"
   ]
  },
  {
   "cell_type": "markdown",
   "metadata": {},
   "source": [
    "## Quais gêneros são os mais frequentes em cada plataforma?"
   ]
  },
  {
   "cell_type": "code",
   "execution_count": null,
   "metadata": {},
   "outputs": [],
   "source": [
    "--Cria tabelas com todas as obras de cada plataforma\n",
    "DROP Table IF EXISTS allNetflix;\n",
    "DROP Table IF EXISTS allDisneyPlus;\n",
    "\n",
    "CREATE VIEW allNetflix AS\n",
    "SELECT F.Titulo, F.Ano, F.Plataforma\n",
    "    FROM Filmes F\n",
    "    WHERE Plataforma = 'Netflix'\n",
    "UNION\n",
    "SELECT S.Titulo, S.Ano, S.Plataforma\n",
    "    FROM Series S\n",
    "    WHERE Plataforma = 'Netflix';\n",
    "    \n",
    "CREATE VIEW allDisneyPlus AS\n",
    "SELECT F.Titulo, F.Ano, F.Plataforma\n",
    "    FROM Filmes F\n",
    "    WHERE Plataforma = 'Disney +'\n",
    "UNION\n",
    "SELECT S.Titulo, S.Ano, S.Plataforma\n",
    "    FROM Series S\n",
    "    WHERE Plataforma = 'Disney +'"
   ]
  },
  {
   "cell_type": "code",
   "execution_count": null,
   "metadata": {},
   "outputs": [],
   "source": [
    "SELECT Genero, COUNT(Genero) AS Qtd\n",
    "    FROM Generos G, allNetflix AN\n",
    "    WHERE G.Titulo=AN.Titulo AND G.Ano=AN.Ano\n",
    "    GROUP BY Genero\n",
    "    HAVING COUNT(Genero)\n",
    "    ORDER BY COUNT(Genero) DESC"
   ]
  },
  {
   "cell_type": "code",
   "execution_count": null,
   "metadata": {},
   "outputs": [],
   "source": [
    "SELECT Genero, COUNT(Genero) AS Qtd\n",
    "    FROM Generos G, allDisneyPlus AD\n",
    "    WHERE G.Titulo=AD.Titulo AND G.Ano=AD.Ano\n",
    "    GROUP BY Genero\n",
    "    HAVING COUNT(Genero)\n",
    "    ORDER BY COUNT(Genero) DESC"
   ]
  },
  {
   "cell_type": "markdown",
   "metadata": {},
   "source": [
    "## Quais atores/diretores têm as melhores avaliações nos filmes em que participaram?"
   ]
  },
  {
   "cell_type": "code",
   "execution_count": null,
   "metadata": {},
   "outputs": [],
   "source": [
    "DROP VIEW IF EXISTS AtoresAvaliacoes;\n",
    "CREATE VIEW AtoresAvaliacoes AS\n",
    "SELECT A.Ator, (CAST(SUBSTRING(F.IMDb, 1, LENGTH(F.IMDb) - 3) as DECIMAL(9,2)) * 10 + SUBSTRING(F.RottenTomatoes, 1, LENGTH(F.RottenTomatoes) - 4))/2 Avaliacao\n",
    "        FROM Atores A, Filmes F\n",
    "        WHERE A.Titulo = F.Titulo AND A.Ano = F.Ano AND F.IMDb != 'nan' AND F.IMDb != '' AND F.RottenTomatoes != 'nan' AND F.RottenTomatoes != ''\n",
    "        ORDER BY A.Ator;\n",
    "\n",
    "DROP VIEW IF EXISTS DiretoresAvaliacoes;\n",
    "CREATE VIEW DiretoresAvaliacoes AS\n",
    "SELECT D.Diretor, (CAST(SUBSTRING(F.IMDb, 1, LENGTH(F.IMDb) - 3) as DECIMAL(9,2)) * 10 + SUBSTRING(F.RottenTomatoes, 1, LENGTH(F.RottenTomatoes) - 4))/2 Avaliacao\n",
    "        FROM Diretores D, Filmes F\n",
    "        WHERE D.Titulo = F.Titulo AND D.Ano = F.Ano AND F.IMDb != 'nan' AND F.IMDb != '' AND F.RottenTomatoes != 'nan' AND F.RottenTomatoes != ''\n",
    "        ORDER BY D.Diretor;"
   ]
  },
  {
   "cell_type": "code",
   "execution_count": null,
   "metadata": {},
   "outputs": [
    {
     "data": {
      "application/vnd.jupyter.widget-view+json": {
       "model_id": "47b7ff4d-098d-427b-9671-8a7da10e9c7b",
       "version_major": 2,
       "version_minor": 0
      },
      "text/plain": []
     },
     "metadata": {},
     "output_type": "display_data"
    }
   ],
   "source": [
    "SELECT AA.Ator, SUM(AA.Avaliacao)/COUNT(AA.Avaliacao) Media_Avaliacao\n",
    "    FROM AtoresAvaliacoes AA\n",
    "    GROUP BY AA.Ator\n",
    "    ORDER BY Media_Avaliacao DESC"
   ]
  },
  {
   "cell_type": "code",
   "execution_count": null,
   "metadata": {},
   "outputs": [
    {
     "data": {
      "application/vnd.jupyter.widget-view+json": {
       "model_id": "631147a6-74fc-4545-92e7-2499cb824430",
       "version_major": 2,
       "version_minor": 0
      },
      "text/plain": []
     },
     "metadata": {},
     "output_type": "display_data"
    }
   ],
   "source": [
    "SELECT DA.Diretor, SUM(DA.Avaliacao)/COUNT(DA.Avaliacao) Media_Avaliacao\n",
    "    FROM DiretoresAvaliacoes DA\n",
    "    GROUP BY DA.Diretor\n",
    "    ORDER BY Media_Avaliacao DESC"
   ]
  },
  {
   "cell_type": "markdown",
   "metadata": {},
   "source": [
    "## As plataformas Disney+ e Netflix concentram a disponibilização de conteúdo em alguma época do ano?"
   ]
  },
  {
   "cell_type": "markdown",
   "metadata": {},
   "source": [
    "* Número de lançamentos em cada mês na plataforma Disney+"
   ]
  },
  {
   "cell_type": "code",
   "execution_count": null,
   "metadata": {},
   "outputs": [],
   "source": [
    "DROP VIEW IF EXISTS mesDisneyPlus;\n",
    "\n",
    "CREATE VIEW mesDisneyPlus AS\n",
    "SELECT SUBSTRING(LancamentoNaPlataforma, 1, CHARINDEX(' ', LancamentoNaPlataforma)) AS Mes\n",
    "FROM DisneyPlus"
   ]
  },
  {
   "cell_type": "code",
   "execution_count": null,
   "metadata": {},
   "outputs": [],
   "source": [
    "SELECT D.Mes, COUNT(D.Mes) As Lancamentos\n",
    "    FROM mesDisneyPlus D\n",
    "    GROUP BY D.Mes\n",
    "    ORDER BY Lancamentos DESC"
   ]
  },
  {
   "cell_type": "markdown",
   "metadata": {},
   "source": [
    "* Número de lançamentos em cada mês na plataforma Netflix"
   ]
  },
  {
   "cell_type": "code",
   "execution_count": null,
   "metadata": {},
   "outputs": [],
   "source": [
    "DROP VIEW IF EXISTS mesNetflix;\n",
    "\n",
    "CREATE VIEW mesNetflix AS\n",
    "SELECT SUBSTRING(LancamentoNaPlataforma, 1, CHARINDEX(' ', LancamentoNaPlataforma)) As Mes\n",
    "FROM Netflix\n",
    "WHERE LancamentoNaPlataforma NOT LIKE ''"
   ]
  },
  {
   "cell_type": "code",
   "execution_count": null,
   "metadata": {},
   "outputs": [],
   "source": [
    "SELECT N.Mes, COUNT(N.Mes) As Lancamentos\n",
    "    FROM mesNetflix N\n",
    "    GROUP BY N.Mes\n",
    "    ORDER BY Lancamentos DESC"
   ]
  },
  {
   "cell_type": "code",
   "execution_count": null,
   "metadata": {},
   "outputs": [],
   "source": [
    "DROP VIEW mesDisneyPlus;\n",
    "DROP VIEW mesNetflix;"
   ]
  },
  {
   "cell_type": "markdown",
   "metadata": {},
   "source": [
    "## Qual a distribuição das avaliações das mídias?"
   ]
  },
  {
   "cell_type": "markdown",
   "metadata": {},
   "source": [
    "* Distribuição das avaliações de filmes"
   ]
  },
  {
   "cell_type": "code",
   "execution_count": null,
   "metadata": {},
   "outputs": [],
   "source": [
    "DROP VIEW IF EXISTS avFilmesString;\n",
    "\n",
    "CREATE VIEW avFilmesString AS\n",
    "SELECT SUBSTRING(F.IMDb, 1, 3) AS AvaliacaoString\n",
    "FROM Filmes F\n",
    "WHERE F.IMDb NOT LIKE 'nan/10'"
   ]
  },
  {
   "cell_type": "code",
   "execution_count": null,
   "metadata": {},
   "outputs": [],
   "source": [
    "DROP VIEW IF EXISTS avFilmes;\n",
    "\n",
    "CREATE VIEW avFilmes AS\n",
    "SELECT CAST(AvaliacaoString AS FLOAT) AS Avaliacao\n",
    "FROM avFilmesString"
   ]
  },
  {
   "cell_type": "code",
   "execution_count": null,
   "metadata": {},
   "outputs": [],
   "source": [
    "SELECT\n",
    "    CASE \n",
    "        WHEN Avaliacao between 0 and 0.4 then '0.0 - 0.4'\n",
    "        WHEN Avaliacao between 0.5 and 0.9 then '0.5 - 0.9'\n",
    "        WHEN Avaliacao between 1 and 1.4 then '1.0 - 1.4'\n",
    "        WHEN Avaliacao between 1.5 and 1.9 then '1.5 - 1.9'\n",
    "        WHEN Avaliacao between 2 and 2.4 then '2.0 - 2.4'\n",
    "        WHEN Avaliacao between 2.5 and 2.9 then '2.5 - 2.9'\n",
    "        WHEN Avaliacao between 3 and 3.4 then '3.0 - 3.4'\n",
    "        WHEN Avaliacao between 3.5 and 3.9 then '3.5 - 3.9'\n",
    "        WHEN Avaliacao between 4 and 4.4 then '4.0 - 4.4'\n",
    "        WHEN Avaliacao between 4.5 and 4.9 then '4.5 - 4.9'\n",
    "        WHEN Avaliacao between 5 and 5.4 then '5.0 - 5.4'\n",
    "        WHEN Avaliacao between 5.5 and 5.9 then '5.0 - 5.9'\n",
    "        WHEN Avaliacao between 6 and 6.4 then '6.0 - 6.4'\n",
    "        WHEN Avaliacao between 6.5 and 6.9 then '6.5 - 6.9'\n",
    "        WHEN Avaliacao between 7 and 7.4 then '7.0 - 7.4'\n",
    "        WHEN Avaliacao between 7.5 and 7.9 then '7.5 - 7.9'\n",
    "        WHEN Avaliacao between 8 and 8.4 then '8.0 - 8.4'\n",
    "        WHEN Avaliacao between 8.5 and 8.9 then '8.5 - 8.9'\n",
    "        WHEN Avaliacao between 9 and 9.4 then '9.0 - 9.4'\n",
    "        ELSE '9.5 - 10'\n",
    "    END AS IntervaloAvaliacao,\n",
    "    COUNT(*) AS Qtd\n",
    "FROM avFilmes\n",
    "GROUP BY Avaliacao\n",
    "ORDER BY Avaliacao"
   ]
  },
  {
   "cell_type": "markdown",
   "metadata": {},
   "source": [
    "* Distribuição das avaliações de séries"
   ]
  },
  {
   "cell_type": "code",
   "execution_count": null,
   "metadata": {},
   "outputs": [],
   "source": [
    "DROP VIEW IF EXISTS avSeriesStr;\n",
    "\n",
    "CREATE VIEW avSeriesStr AS\n",
    "SELECT SUBSTRING(S.IMDb, 1, 3) AS AvaliacaoString\n",
    "FROM Series S\n",
    "WHERE S.IMDb NOT LIKE 'nan/10'"
   ]
  },
  {
   "cell_type": "code",
   "execution_count": null,
   "metadata": {},
   "outputs": [],
   "source": [
    "DROP VIEW IF EXISTS avSeries;\n",
    "\n",
    "CREATE VIEW avSeries AS\n",
    "SELECT CAST(AvaliacaoString AS FLOAT) AS Avaliacao\n",
    "FROM avSeriesStr"
   ]
  },
  {
   "cell_type": "code",
   "execution_count": null,
   "metadata": {},
   "outputs": [],
   "source": [
    "SELECT\n",
    "    CASE \n",
    "        WHEN Avaliacao between 0 and 0.4 then '0.0 - 0.4'\n",
    "        WHEN Avaliacao between 0.5 and 0.9 then '0.5 - 0.9'\n",
    "        WHEN Avaliacao between 1 and 1.4 then '1.0 - 1.4'\n",
    "        WHEN Avaliacao between 1.5 and 1.9 then '1.5 - 1.9'\n",
    "        WHEN Avaliacao between 2 and 2.4 then '2.0 - 2.4'\n",
    "        WHEN Avaliacao between 2.5 and 2.9 then '2.5 - 2.9'\n",
    "        WHEN Avaliacao between 3 and 3.4 then '3.0 - 3.4'\n",
    "        WHEN Avaliacao between 3.5 and 3.9 then '3.5 - 3.9'\n",
    "        WHEN Avaliacao between 4 and 4.4 then '4.0 - 4.4'\n",
    "        WHEN Avaliacao between 4.5 and 4.9 then '4.5 - 4.9'\n",
    "        WHEN Avaliacao between 5 and 5.4 then '5.0 - 5.4'\n",
    "        WHEN Avaliacao between 5.5 and 5.9 then '5.0 - 5.9'\n",
    "        WHEN Avaliacao between 6 and 6.4 then '6.0 - 6.4'\n",
    "        WHEN Avaliacao between 6.5 and 6.9 then '6.5 - 6.9'\n",
    "        WHEN Avaliacao between 7 and 7.4 then '7.0 - 7.4'\n",
    "        WHEN Avaliacao between 7.5 and 7.9 then '7.5 - 7.9'\n",
    "        WHEN Avaliacao between 8 and 8.4 then '8.0 - 8.4'\n",
    "        WHEN Avaliacao between 8.5 and 8.9 then '8.5 - 8.9'\n",
    "        WHEN Avaliacao between 9 and 9.4 then '9.0 - 9.4'\n",
    "        ELSE '9.5 - 10'\n",
    "    END AS IntervaloAvaliacao,\n",
    "    COUNT(*) AS Qtd\n",
    "FROM avSeries\n",
    "GROUP BY Avaliacao\n",
    "ORDER BY Avaliacao"
   ]
  },
  {
   "cell_type": "code",
   "execution_count": null,
   "metadata": {},
   "outputs": [],
   "source": [
    "DROP VIEW IF EXISTS avFilmes;\n",
    "DROP VIEW IF EXISTS avFilmesString;\n",
    "DROP VIEW IF EXISTS avSeries;\n",
    "DROP VIEW IF EXISTS avSeriesStr;"
   ]
  },
  {
   "cell_type": "markdown",
   "metadata": {},
   "source": [
    "## Taxa de classificação indicativa por ano, como o mercado lida com o envelhecimento do público?"
   ]
  },
  {
   "cell_type": "markdown",
   "metadata": {},
   "source": [
    "* Classificação Indicativa dos filmes para cada ano"
   ]
  },
  {
   "cell_type": "code",
   "execution_count": null,
   "metadata": {},
   "outputs": [],
   "source": [
    "DROP VIEW IF EXISTS ciFilmes;\n",
    "\n",
    "CREATE VIEW ciFilmes AS\n",
    "SELECT ClassificacaoIndicativa, Ano\n",
    "FROM Filmes\n",
    "WHERE ClassificacaoIndicativa NOT LIKE '' AND ClassificacaoIndicativa NOT LIKE '%min%'"
   ]
  },
  {
   "cell_type": "code",
   "execution_count": null,
   "metadata": {},
   "outputs": [],
   "source": [
    "SELECT Ano, ClassificacaoIndicativa, COUNT(ClassificacaoIndicativa) AS Qtd\n",
    "FROM ciFilmes\n",
    "GROUP BY Ano, ClassificacaoIndicativa\n",
    "ORDER BY Ano"
   ]
  },
  {
   "cell_type": "markdown",
   "metadata": {},
   "source": [
    "* Classificação Indicativa dos séries para cada ano"
   ]
  },
  {
   "cell_type": "code",
   "execution_count": null,
   "metadata": {},
   "outputs": [],
   "source": [
    "DROP VIEW IF EXISTS ciSeries;\n",
    "\n",
    "CREATE VIEW ciSeries AS\n",
    "SELECT ClassificacaoIndicativa, SUBSTRING(Ano, 1, 4) AS Ano\n",
    "FROM Series\n",
    "WHERE ClassificacaoIndicativa NOT LIKE ''"
   ]
  },
  {
   "cell_type": "code",
   "execution_count": null,
   "metadata": {},
   "outputs": [],
   "source": [
    "SELECT Ano, ClassificacaoIndicativa, COUNT(ClassificacaoIndicativa) AS Qtd\n",
    "FROM ciSeries\n",
    "GROUP BY Ano, ClassificacaoIndicativa\n",
    "ORDER BY Ano"
   ]
  },
  {
   "cell_type": "code",
   "execution_count": null,
   "metadata": {},
   "outputs": [],
   "source": [
    "DROP VIEW IF EXISTS ciFilmes;\n",
    "DROP VIEW IF EXISTS ciSeries;"
   ]
  },
  {
   "cell_type": "markdown",
   "metadata": {},
   "source": [
    "## Comparação entre as avaliações Rotten Tomatoes e IMDb, com o objetivo de encontrar obras controversas"
   ]
  },
  {
   "cell_type": "markdown",
   "metadata": {},
   "source": [
    "* Filmes"
   ]
  },
  {
   "cell_type": "code",
   "execution_count": null,
   "metadata": {},
   "outputs": [],
   "source": [
    "SELECT F.Titulo, ABS(CAST(SUBSTRING(F.IMDb, 1, LENGTH(F.IMDb) - 3) as DECIMAL(9,2)) * 10 - SUBSTRING(F.RottenTomatoes, 1, LENGTH(F.RottenTomatoes) - 4)) DiferencaAvaliacao\n",
    "    FROM Filmes F\n",
    "    WHERE F.IMDb != 'nan' AND F.IMDb != '' AND F.RottenTomatoes != 'nan' AND F.RottenTomatoes != ''\n",
    "    ORDER BY DiferencaAvaliacao DESC;"
   ]
  },
  {
   "cell_type": "markdown",
   "metadata": {},
   "source": [
    "* Series"
   ]
  },
  {
   "cell_type": "code",
   "execution_count": null,
   "metadata": {},
   "outputs": [],
   "source": [
    "SELECT S.Titulo, ABS(CAST(SUBSTRING(S.IMDb, 1, LENGTH(S.IMDb) - 3) as DECIMAL(9,2)) * 10 - SUBSTRING(S.RottenTomatoes, 1, LENGTH(S.RottenTomatoes) - 4)) DiferencaAvaliacao\n",
    "    FROM Series S\n",
    "    WHERE S.IMDb != 'nan' AND S.IMDb != '' AND S.RottenTomatoes != 'nan' AND S.RottenTomatoes != ''\n",
    "    ORDER BY DiferencaAvaliacao DESC;"
   ]
  },
  {
   "cell_type": "markdown",
   "metadata": {},
   "source": [
    "## Existe alguma relação entre popularidade e exclusividade dos serviços de streaming?"
   ]
  },
  {
   "cell_type": "code",
   "execution_count": null,
   "metadata": {},
   "outputs": [],
   "source": [
    "--Cria tabelas com todas as obras de cada plataforma contendo a media da avaliação\n",
    "DROP Table IF EXISTS allNetflix;\n",
    "DROP Table IF EXISTS allDisneyPlus;\n",
    "DROP Table IF EXISTS allOthers;\n",
    "\n",
    "\n",
    "CREATE VIEW allNetflix AS\n",
    "SELECT F.Titulo, F.Ano, F.Plataforma, (CAST(SUBSTRING(F.IMDB,1,LENGTH(F.IMDB)-3) AS DECIMAL(9,2))*10 + SUBSTRING(F.RottenTomatoes, 1, LENGTH(F.RottenTomatoes)-4))/2 Avaliacao\n",
    "    FROM Filmes F\n",
    "    WHERE F.Plataforma = 'Netflix' AND F.IMDB != 'nan' AND F.IMDB != '' AND F.IMDB != 'nan/10' AND F.RottenTomatoes != 'nan' AND F.RottenTomatoes != ''\n",
    "UNION\n",
    "SELECT S.Titulo, S.Ano, S.Plataforma, (CAST(SUBSTRING(S.IMDB,1,LENGTH(S.IMDB)-3) AS DECIMAL(9,2))*10 + SUBSTRING(S.RottenTomatoes, 1, LENGTH(S.RottenTomatoes)-4))/2 Avaliacao\n",
    "    FROM Series S\n",
    "    WHERE S.Plataforma = 'Netflix' AND S.IMDB != 'nan' AND S.IMDB != '' AND S.IMDB != 'nan/10' AND S.RottenTomatoes != 'nan' AND S.RottenTomatoes != '';\n",
    "\n",
    "CREATE VIEW allDisneyPlus AS\n",
    "SELECT F.Titulo, F.Ano, F.Plataforma, (CAST(SUBSTRING(F.IMDB,1,LENGTH(F.IMDB)-3) AS DECIMAL(9,2))*10 + SUBSTRING(F.RottenTomatoes, 1, LENGTH(F.RottenTomatoes)-4))/2 Avaliacao\n",
    "    FROM Filmes F\n",
    "    WHERE F.Plataforma = 'Disney +' AND F.IMDB != 'nan' AND F.IMDB != '' AND F.IMDB != 'nan/10' AND F.RottenTomatoes != 'nan' AND F.RottenTomatoes != ''\n",
    "UNION\n",
    "SELECT S.Titulo, S.Ano, S.Plataforma, (CAST(SUBSTRING(S.IMDB,1,LENGTH(S.IMDB)-3) AS DECIMAL(9,2))*10 + SUBSTRING(S.RottenTomatoes, 1, LENGTH(S.RottenTomatoes)-4))/2 Avaliacao\n",
    "    FROM Series S\n",
    "    WHERE S.Plataforma = 'Disney +' AND S.IMDB != 'nan' AND S.IMDB != '' AND S.IMDB != 'nan/10' AND S.RottenTomatoes != 'nan' AND S.RottenTomatoes != '';\n",
    "    \n",
    "CREATE VIEW allOthers AS\n",
    "SELECT F.Titulo, F.Ano, F.Plataforma, (CAST(SUBSTRING(F.IMDB,1,LENGTH(F.IMDB)-3) AS DECIMAL(9,2))*10 + SUBSTRING(F.RottenTomatoes, 1, LENGTH(F.RottenTomatoes)-4))/2 Avaliacao\n",
    "    FROM Filmes F\n",
    "    WHERE F.Plataforma = 'Netflix,Disney+' OR F.Plataforma='Outra' AND F.IMDB != 'nan' AND F.IMDB != '' AND F.IMDB != 'nan/10' AND F.RottenTomatoes != 'nan' AND F.RottenTomatoes != ''\n",
    "UNION\n",
    "SELECT S.Titulo, S.Ano, S.Plataforma, (CAST(SUBSTRING(S.IMDB,1,LENGTH(S.IMDB)-3) AS DECIMAL(9,2))*10 + SUBSTRING(S.RottenTomatoes, 1, LENGTH(S.RottenTomatoes)-4))/2 Avaliacao\n",
    "    FROM Series S\n",
    "    WHERE S.Plataforma = 'Netflix,Disney+' OR S.Plataforma='Outra' AND S.IMDB != 'nan' AND S.IMDB != '' AND S.IMDB != 'nan/10' AND S.RottenTomatoes != 'nan' AND S.RottenTomatoes != '';"
   ]
  },
  {
   "cell_type": "code",
   "execution_count": null,
   "metadata": {},
   "outputs": [],
   "source": [
    "SELECT AVG(Avaliacao) FROM allNetflix;\n",
    "SELECT AVG(Avaliacao) FROM allDisneyPlus;\n",
    "SELECT AVG(Avaliacao) FROM allOthers;"
   ]
  },
  {
   "cell_type": "markdown",
   "metadata": {},
   "source": [
    "# Queries Difíceis"
   ]
  },
  {
   "cell_type": "markdown",
   "metadata": {},
   "source": [
    "## Qual a palavra mais utilizada em títulos?"
   ]
  },
  {
   "cell_type": "code",
   "execution_count": null,
   "metadata": {},
   "outputs": [],
   "source": [
    "SELECT Palavra, COUNT(Palavra) AS Qtd\n",
    "FROM Palavras\n",
    "WHERE LENGTH(Palavra) > 3\n",
    "GROUP BY Palavra\n",
    "ORDER BY Qtd DESC"
   ]
  },
  {
   "cell_type": "code",
   "execution_count": null,
   "metadata": {},
   "outputs": [],
   "source": [
    "SELECT Palavra, COUNT(Palavra) AS Qtd\n",
    "FROM Palavras\n",
    "WHERE LENGTH(Palavra) <= 3\n",
    "GROUP BY Palavra\n",
    "ORDER BY Qtd DESC"
   ]
  },
  {
   "cell_type": "markdown",
   "metadata": {},
   "source": [
    "## Existe alguma relação entre país e gênero?"
   ]
  },
  {
   "cell_type": "markdown",
   "metadata": {},
   "source": [
    "* Dividido por Gêneros"
   ]
  },
  {
   "cell_type": "code",
   "execution_count": null,
   "metadata": {},
   "outputs": [],
   "source": [
    "SELECT G.Genero, P.Pais, COUNT(G.Genero) AS Qtd\n",
    "FROM Paises P, Generos G\n",
    "WHERE P.Titulo = G.Titulo\n",
    "GROUP BY Genero, Pais\n",
    "ORDER BY Genero, Qtd DESC"
   ]
  },
  {
   "cell_type": "markdown",
   "metadata": {},
   "source": [
    "* Dividido por Países"
   ]
  },
  {
   "cell_type": "code",
   "execution_count": null,
   "metadata": {},
   "outputs": [],
   "source": [
    "SELECT P.Pais, G.Genero, COUNT(G.Genero) AS Qtd\n",
    "FROM Paises P, Generos G\n",
    "WHERE P.Titulo = G.Titulo\n",
    "GROUP BY Pais, Genero\n",
    "ORDER BY Pais, Qtd DESC"
   ]
  },
  {
   "cell_type": "markdown",
   "metadata": {},
   "source": [
    "## Como os gêneros mais populares mudaram ao longo dos anos (tendências)?"
   ]
  },
  {
   "cell_type": "code",
   "execution_count": null,
   "metadata": {},
   "outputs": [],
   "source": [
    "SELECT Genero, Ano, COUNT(Genero) AS Qtd\n",
    "FROM Generos\n",
    "GROUP BY Genero, Ano\n",
    "ORDER BY Ano, Qtd DESC"
   ]
  }
 ],
 "metadata": {
  "kernelspec": {
   "display_name": "SQL",
   "language": "SQL",
   "name": "python388jvsc74a57bd0c94be41889154d41bf43aca8d1a8d1cd64b97c119170e03e2ed46ca87183f0c5"
  },
  "language_info": {
   "codemirror_mode": "sql",
   "file_extension": ".sql",
   "mimetype": "",
   "name": "SQL",
   "nbconverter_exporter": "",
   "version": ""
  },
  "orig_nbformat": 4
 },
 "nbformat": 4,
 "nbformat_minor": 2
}

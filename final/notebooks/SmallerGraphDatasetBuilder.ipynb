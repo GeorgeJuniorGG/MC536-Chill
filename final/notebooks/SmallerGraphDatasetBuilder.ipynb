{
 "cells": [
  {
   "cell_type": "markdown",
   "metadata": {},
   "source": [
    "# Programa que prepara o dataset para o Neo4J"
   ]
  },
  {
   "cell_type": "markdown",
   "metadata": {},
   "source": [
    "_Este arquivo foi utilizado para criar um grafo menor, a partir dos dados incompletos que tínhamos gerado até a etapa de prévia do projeto. Ele nos possibilitou visualizar melhor alguns resultados, por ser um recorte do outro grafo._"
   ]
  },
  {
   "cell_type": "markdown",
   "metadata": {},
   "source": [
    "## Importando bibliotecas"
   ]
  },
  {
   "cell_type": "code",
   "execution_count": 1,
   "metadata": {},
   "outputs": [],
   "source": [
    "import pandas as pd"
   ]
  },
  {
   "cell_type": "markdown",
   "metadata": {},
   "source": [
    "## Carregando nossos datasets"
   ]
  },
  {
   "cell_type": "code",
   "execution_count": 2,
   "metadata": {},
   "outputs": [],
   "source": [
    "atores = pd.read_csv(\"atores.csv\")\n",
    "diretores = pd.read_csv(\"diretores.csv\")\n",
    "generos = pd.read_csv(\"generos.csv\")"
   ]
  },
  {
   "cell_type": "markdown",
   "metadata": {},
   "source": [
    "## Criando csvs para o Neo4j"
   ]
  },
  {
   "cell_type": "code",
   "execution_count": 36,
   "metadata": {},
   "outputs": [],
   "source": [
    "actors = []\n",
    "directors = []\n",
    "midias = []\n",
    "genres = []\n",
    "\n",
    "for i in range(len(atores)):\n",
    "    midias.append(str(atores['Titulo'][i]) + \" (\" + str(atores['Ano'][i] + \")\"))\n",
    "    actors.append(str(atores['Ator'][i]))\n",
    "\n",
    "table = {'Atores': actors, 'Titulo': midias}\n",
    "df = pd.DataFrame(table, columns=['Titulo', 'Atores'])\n",
    "df.to_csv(r'tituloatores.csv',\n",
    "            index=False, header=True)\n",
    "\n",
    "midias = []\n",
    "\n",
    "for i in range(len(diretores)):\n",
    "    midias.append(str(diretores['Titulo'][i]) + \" (\" + str(diretores['Ano'][i] + \")\"))\n",
    "    directors.append(str(diretores['Diretor'][i]))\n",
    "\n",
    "table = {'Titulo': midias, 'Diretores': directors}\n",
    "df = pd.DataFrame(table, columns=['Titulo', 'Diretores'])\n",
    "df.to_csv(r'titulodiretores.csv',\n",
    "            index=False, header=True)\n",
    "\n",
    "midias = []\n",
    "\n",
    "for i in range(len(generos)):\n",
    "    midias.append(str(generos['Titulo'][i]) + \" (\" + str(generos['Ano'][i] + \")\"))\n",
    "    genres.append(str(generos['Genero'][i]))\n",
    "\n",
    "table = {'Titulo': midias, 'Generos': genres}\n",
    "df = pd.DataFrame(table, columns=['Titulo', 'Generos'])\n",
    "df.to_csv(r'titulogeneros.csv',\n",
    "            index=False, header=True)\n",
    "\n",
    "midias = []\n",
    "for i in range(len(generos)):\n",
    "    if (str(generos['Titulo'][i]) + \" (\" + str(generos['Ano'][i] + \")\")) not in midias:\n",
    "        midias.append(str(generos['Titulo'][i]) + \" (\" + str(generos['Ano'][i] + \")\"))\n",
    "\n",
    "table = {'Titulo': midias}\n",
    "df = pd.DataFrame(table, columns=['Titulo'])\n",
    "df.to_csv(r'titulos.csv',\n",
    "            index=False, header=True)\n",
    "\n",
    "actors = []\n",
    "for i in range(len(atores)):\n",
    "    if (str(atores['Ator'][i])) not in actors and str(atores['Ator'][i]) != \"nan\" and str(atores['Ator'][i]) != \"\":\n",
    "        actors.append(atores['Ator'][i])\n",
    "\n",
    "table = {'Atores': actors}\n",
    "df = pd.DataFrame(table, columns=['Atores'])\n",
    "df.to_csv(r'apenasatores.csv',\n",
    "            index=False, header=True)\n",
    "\n",
    "directors = []\n",
    "for i in range(len(diretores)):\n",
    "    if (str(diretores['Diretor'][i])) not in directors and str(diretores['Diretor'][i]) != \"nan\" and str(diretores['Diretor'][i]) != \"\":\n",
    "        directors.append(diretores['Diretor'][i])\n",
    "\n",
    "table = {'Diretores': directors}\n",
    "df = pd.DataFrame(table, columns=['Diretores'])\n",
    "df.to_csv(r'apenasdiretores.csv',\n",
    "            index=False, header=True)"
   ]
  },
  {
   "cell_type": "markdown",
   "metadata": {},
   "source": [
    "# Comandos para Cypher"
   ]
  },
  {
   "cell_type": "markdown",
   "metadata": {},
   "source": [
    "## Criando os nós e as arestas\n",
    "_Obs: os arquivos cujos links apontam para o github também estão na pasta data do projeto_"
   ]
  },
  {
   "cell_type": "markdown",
   "metadata": {},
   "source": [
    "### Criando nós\n",
    "LOAD CSV WITH HEADERS FROM 'https://raw.githubusercontent.com/GeorgeJuniorGG/git_test/main/apenasatores.csv' AS line\n",
    "CREATE (a:Ator {Ator: line.Atores})\n",
    "\n",
    "LOAD CSV WITH HEADERS FROM 'https://raw.githubusercontent.com/GeorgeJuniorGG/git_test/main/apenasdiretores.csv' AS line\n",
    "CREATE (d:Diretor {Diretor: line.Diretores})\n",
    "\n",
    "LOAD CSV WITH HEADERS FROM 'https://raw.githubusercontent.com/GeorgeJuniorGG/git_test/main/titulogeneros.csv' AS line\n",
    "Merge (g:Genero {Genero: line.Generos})\n",
    "\n",
    "LOAD CSV WITH HEADERS FROM 'https://raw.githubusercontent.com/GeorgeJuniorGG/git_test/main/titulos.csv' AS line\n",
    "CREATE (t:Titulo {Titulo: line.Titulo})\n",
    "\n",
    "### Criando arestas\n",
    "LOAD CSV WITH HEADERS FROM 'https://raw.githubusercontent.com/GeorgeJuniorGG/git_test/main/tituloatores.csv' AS line\n",
    "MATCH (t:Titulo {Titulo: line.Titulo})\n",
    "MATCH (a:Ator {Ator: line.Atores})\n",
    "CREATE (a)-[:Atuou]->(t)\n",
    "\n",
    "LOAD CSV WITH HEADERS FROM 'https://raw.githubusercontent.com/GeorgeJuniorGG/git_test/main/titulodiretores.csv' AS line\n",
    "MATCH (t:Titulo {Titulo: line.Titulo})\n",
    "MATCH (d:Diretor {Diretor: line.Diretores})\n",
    "CREATE (d)-[:Dirigiu]->(t)\n",
    "\n",
    "LOAD CSV WITH HEADERS FROM 'https://raw.githubusercontent.com/GeorgeJuniorGG/git_test/main/titulogeneros.csv' AS line\n",
    "MATCH (t:Titulo {Titulo: line.Titulo})\n",
    "MATCH (g:Genero {Genero: line.Generos})\n",
    "CREATE (g)-[:Genero]->(t)\n",
    "\n",
    "### Criando arestas para projeções propostas\n",
    "\n",
    "MATCH (p:Diretor)-[:Dirigiu]->(t:Titulo)<-[:Genero]-(g:Genero) \n",
    "MERGE (p)-[:AtuouGenero]->(g)\n",
    "\n",
    "MATCH (p:Ator)-[:Atuou]->(t:Titulo)<-[:Genero]-(g:Genero)\n",
    "MERGE (p)-[:AtuouGenero]->(g)\n",
    "\n",
    "MATCH (p:Ator)-[:Atuou]->(t:Titulo)<-[:Atuou]-(q:Ator)\n",
    "MERGE (p)-[:CoAtuou]-(q)"
   ]
  }
 ],
 "metadata": {
  "interpreter": {
   "hash": "63fd5069d213b44bf678585dea6b12cceca9941eaf7f819626cde1f2670de90d"
  },
  "kernelspec": {
   "display_name": "Python 3.9.6 64-bit",
   "language": "python",
   "name": "python3"
  },
  "language_info": {
   "codemirror_mode": {
    "name": "ipython",
    "version": 3
   },
   "file_extension": ".py",
   "mimetype": "text/x-python",
   "name": "python",
   "nbconvert_exporter": "python",
   "pygments_lexer": "ipython3",
   "version": "3.9.6"
  },
  "orig_nbformat": 4
 },
 "nbformat": 4,
 "nbformat_minor": 2
}

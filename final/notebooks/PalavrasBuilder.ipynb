{
  "nbformat": 4,
  "nbformat_minor": 0,
  "metadata": {
    "colab": {
      "name": "PalavrasBuilder.ipynb",
      "provenance": []
    },
    "kernelspec": {
      "name": "python3",
      "display_name": "Python 3"
    },
    "language_info": {
      "name": "python"
    }
  },
  "cells": [
    {
      "cell_type": "code",
      "metadata": {
        "id": "fzp9sTW48Hoq"
      },
      "source": [
        "import pandas as pd"
      ],
      "execution_count": 36,
      "outputs": []
    },
    {
      "cell_type": "code",
      "metadata": {
        "id": "Gmb7H2Nf8fRY"
      },
      "source": [
        "filmes = pd.read_csv(\"filmesNew.csv\")\n",
        "\n",
        "palavras = []"
      ],
      "execution_count": 37,
      "outputs": []
    },
    {
      "cell_type": "code",
      "metadata": {
        "id": "mDnLoiaR9GM8"
      },
      "source": [
        "for i in range(len(filmes)):\n",
        "  txt = filmes[\"Titulo\"][i].lower().split()\n",
        "  for j in txt:\n",
        "    if j[-1] == ':':\n",
        "      j = j[:-1]\n",
        "    palavras.append(j)"
      ],
      "execution_count": 39,
      "outputs": []
    },
    {
      "cell_type": "code",
      "metadata": {
        "id": "s__a3P9v_a4v"
      },
      "source": [
        "table = {'Palavras': palavras}\n",
        "df = pd.DataFrame(table, columns=['Palavras'])\n",
        "df.to_csv(r'palavras.csv', index=False, header=True)"
      ],
      "execution_count": 40,
      "outputs": []
    }
  ]
}